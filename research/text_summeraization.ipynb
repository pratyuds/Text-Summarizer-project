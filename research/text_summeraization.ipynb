{
 "cells": [
  {
   "cell_type": "code",
   "execution_count": 2,
   "metadata": {},
   "outputs": [
    {
     "name": "stdout",
     "output_type": "stream",
     "text": [
      "Collecting nvidia-smi\n",
      "  Downloading nvidia_smi-0.1.3-py36-none-any.whl.metadata (2.1 kB)\n",
      "Requirement already satisfied: numpy>=1.16.2 in c:\\users\\admin\\.conda\\envs\\machine_env\\lib\\site-packages (from nvidia-smi) (1.26.4)\n",
      "Requirement already satisfied: six>=1.12.0 in c:\\users\\admin\\.conda\\envs\\machine_env\\lib\\site-packages (from nvidia-smi) (1.16.0)\n",
      "Collecting sorcery>=0.1.0 (from nvidia-smi)\n",
      "  Downloading sorcery-0.2.2-py3-none-any.whl.metadata (12 kB)\n",
      "Collecting pytest>=4.3.1 (from nvidia-smi)\n",
      "  Downloading pytest-8.2.0-py3-none-any.whl.metadata (7.5 kB)\n",
      "Collecting iniconfig (from pytest>=4.3.1->nvidia-smi)\n",
      "  Downloading iniconfig-2.0.0-py3-none-any.whl.metadata (2.6 kB)\n",
      "Requirement already satisfied: packaging in c:\\users\\admin\\.conda\\envs\\machine_env\\lib\\site-packages (from pytest>=4.3.1->nvidia-smi) (24.0)\n",
      "Collecting pluggy<2.0,>=1.5 (from pytest>=4.3.1->nvidia-smi)\n",
      "  Downloading pluggy-1.5.0-py3-none-any.whl.metadata (4.8 kB)\n",
      "Requirement already satisfied: colorama in c:\\users\\admin\\.conda\\envs\\machine_env\\lib\\site-packages (from pytest>=4.3.1->nvidia-smi) (0.4.6)\n",
      "Requirement already satisfied: executing in c:\\users\\admin\\.conda\\envs\\machine_env\\lib\\site-packages (from sorcery>=0.1.0->nvidia-smi) (2.0.1)\n",
      "Collecting littleutils>=0.2.1 (from sorcery>=0.1.0->nvidia-smi)\n",
      "  Downloading littleutils-0.2.2.tar.gz (6.6 kB)\n",
      "  Preparing metadata (setup.py): started\n",
      "  Preparing metadata (setup.py): finished with status 'done'\n",
      "Requirement already satisfied: asttokens in c:\\users\\admin\\.conda\\envs\\machine_env\\lib\\site-packages (from sorcery>=0.1.0->nvidia-smi) (2.4.1)\n",
      "Collecting wrapt (from sorcery>=0.1.0->nvidia-smi)\n",
      "  Downloading wrapt-1.16.0-cp312-cp312-win_amd64.whl.metadata (6.8 kB)\n",
      "Downloading nvidia_smi-0.1.3-py36-none-any.whl (11 kB)\n",
      "Downloading pytest-8.2.0-py3-none-any.whl (339 kB)\n",
      "   ---------------------------------------- 0.0/339.2 kB ? eta -:--:--\n",
      "   ------------------- -------------------- 163.8/339.2 kB 5.0 MB/s eta 0:00:01\n",
      "   ------------------- -------------------- 163.8/339.2 kB 5.0 MB/s eta 0:00:01\n",
      "   -------------------- ------------------- 174.1/339.2 kB 1.3 MB/s eta 0:00:01\n",
      "   ---------------------------- ----------- 245.8/339.2 kB 1.7 MB/s eta 0:00:01\n",
      "   ---------------------------- ----------- 245.8/339.2 kB 1.7 MB/s eta 0:00:01\n",
      "   ---------------------------------------  337.9/339.2 kB 1.4 MB/s eta 0:00:01\n",
      "   ---------------------------------------  337.9/339.2 kB 1.4 MB/s eta 0:00:01\n",
      "   ---------------------------------------  337.9/339.2 kB 1.4 MB/s eta 0:00:01\n",
      "   -------------------------------------- 339.2/339.2 kB 877.3 kB/s eta 0:00:00\n",
      "Downloading sorcery-0.2.2-py3-none-any.whl (16 kB)\n",
      "Downloading pluggy-1.5.0-py3-none-any.whl (20 kB)\n",
      "Downloading iniconfig-2.0.0-py3-none-any.whl (5.9 kB)\n",
      "Downloading wrapt-1.16.0-cp312-cp312-win_amd64.whl (37 kB)\n",
      "Building wheels for collected packages: littleutils\n",
      "  Building wheel for littleutils (setup.py): started\n",
      "  Building wheel for littleutils (setup.py): finished with status 'done'\n",
      "  Created wheel for littleutils: filename=littleutils-0.2.2-py3-none-any.whl size=7034 sha256=f2245c147ff9571ac5557d33a8060c3867b2b73e0256b1ff2ad0b9fb8b7b3a19\n",
      "  Stored in directory: c:\\users\\admin\\appdata\\local\\pip\\cache\\wheels\\20\\bc\\bd\\732b4dc8cb7b7e1f9f21833e69a931bdcb11e1c21951fc4ff1\n",
      "Successfully built littleutils\n",
      "Installing collected packages: littleutils, wrapt, pluggy, iniconfig, sorcery, pytest, nvidia-smi\n",
      "Successfully installed iniconfig-2.0.0 littleutils-0.2.2 nvidia-smi-0.1.3 pluggy-1.5.0 pytest-8.2.0 sorcery-0.2.2 wrapt-1.16.0\n"
     ]
    }
   ],
   "source": [
    "!pip install nvidia-smi\n"
   ]
  },
  {
   "cell_type": "code",
   "execution_count": 4,
   "metadata": {},
   "outputs": [
    {
     "name": "stdout",
     "output_type": "stream",
     "text": [
      "^C\n"
     ]
    }
   ],
   "source": [
    "!pip install transformers[sentencepiece] datasets sacrebleu rouge_score py7zr -q"
   ]
  },
  {
   "cell_type": "code",
   "execution_count": null,
   "metadata": {},
   "outputs": [],
   "source": [
    "!pip install --update accelerate\n",
    "!pip uninstall -y transformers accelerate\n",
    "!pip install transformers accelerate"
   ]
  }
 ],
 "metadata": {
  "kernelspec": {
   "display_name": "machine_env",
   "language": "python",
   "name": "python3"
  },
  "language_info": {
   "codemirror_mode": {
    "name": "ipython",
    "version": 3
   },
   "file_extension": ".py",
   "mimetype": "text/x-python",
   "name": "python",
   "nbconvert_exporter": "python",
   "pygments_lexer": "ipython3",
   "version": "3.12.3"
  }
 },
 "nbformat": 4,
 "nbformat_minor": 2
}
